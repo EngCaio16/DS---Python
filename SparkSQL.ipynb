{
  "nbformat": 4,
  "nbformat_minor": 0,
  "metadata": {
    "colab": {
      "provenance": []
    },
    "kernelspec": {
      "name": "python3",
      "display_name": "Python 3"
    },
    "language_info": {
      "name": "python"
    }
  },
  "cells": [
    {
      "cell_type": "code",
      "execution_count": 2,
      "metadata": {
        "colab": {
          "base_uri": "https://localhost:8080/"
        },
        "id": "2s-Kz6Mk1wIL",
        "outputId": "53dbbc91-84a0-4103-f881-cda229097b72"
      },
      "outputs": [
        {
          "output_type": "stream",
          "name": "stdout",
          "text": [
            "Collecting pyspark\n",
            "  Downloading pyspark-3.5.0.tar.gz (316.9 MB)\n",
            "\u001b[2K     \u001b[90m━━━━━━━━━━━━━━━━━━━━━━━━━━━━━━━━━━━━━━━━\u001b[0m \u001b[32m316.9/316.9 MB\u001b[0m \u001b[31m4.3 MB/s\u001b[0m eta \u001b[36m0:00:00\u001b[0m\n",
            "\u001b[?25h  Preparing metadata (setup.py) ... \u001b[?25l\u001b[?25hdone\n",
            "Requirement already satisfied: py4j==0.10.9.7 in /usr/local/lib/python3.10/dist-packages (from pyspark) (0.10.9.7)\n",
            "Building wheels for collected packages: pyspark\n",
            "  Building wheel for pyspark (setup.py) ... \u001b[?25l\u001b[?25hdone\n",
            "  Created wheel for pyspark: filename=pyspark-3.5.0-py2.py3-none-any.whl size=317425345 sha256=161d1dfc64d5051538b93946da63231ccfdb7aca0daf71c17d3e653e0eb34aa1\n",
            "  Stored in directory: /root/.cache/pip/wheels/41/4e/10/c2cf2467f71c678cfc8a6b9ac9241e5e44a01940da8fbb17fc\n",
            "Successfully built pyspark\n",
            "Installing collected packages: pyspark\n",
            "Successfully installed pyspark-3.5.0\n"
          ]
        }
      ],
      "source": [
        "!pip install pyspark"
      ]
    },
    {
      "cell_type": "code",
      "source": [
        "!wget -qnc https://bin.equinox.io/c/4VmDzA7iaHb/ngrok-stable-linux-amd64.zip\n",
        "!unzip -n -q ngrok-stable-linux-amd64.zip"
      ],
      "metadata": {
        "id": "s1f6AgbA2WUW"
      },
      "execution_count": 3,
      "outputs": []
    },
    {
      "cell_type": "code",
      "source": [
        "from pyspark.sql import SparkSession\n",
        "from pyspark import SparkContext, SparkConf\n",
        "\n",
        "spark = (\n",
        "    SparkSession.builder\n",
        "      .appName(\"Exercicios Spark\")\n",
        "      .getOrCreate())"
      ],
      "metadata": {
        "id": "J1FcIEJW3PfG"
      },
      "execution_count": 4,
      "outputs": []
    },
    {
      "cell_type": "code",
      "source": [
        "!./ngrok authtoken cr_2bPPeoC6NJqG0Huey7fRe713uFd\n",
        "get_ipython().system_raw('./ngrok http 4050 &')\n",
        "!sleep 10\n",
        "!curl -s http://localhost:4040/api/tunnels | grep -Po 'public_url\":\"(?=https)\\K[^\"]*'"
      ],
      "metadata": {
        "colab": {
          "base_uri": "https://localhost:8080/"
        },
        "id": "aTfzag6qO5xg",
        "outputId": "3fa924f2-30a1-45d0-dfed-f69601e79cf5"
      },
      "execution_count": 5,
      "outputs": [
        {
          "output_type": "stream",
          "name": "stdout",
          "text": [
            "Authtoken saved to configuration file: /root/.ngrok2/ngrok.yml\n"
          ]
        }
      ]
    },
    {
      "cell_type": "code",
      "source": [
        "from pyspark.sql.types import StructType, StructField, IntegerType, DoubleType, StringType, TimestampType\n",
        "\n",
        "\n",
        "schema_base_pix = StructType([\n",
        "    StructField('id', IntegerType()),\n",
        "    StructField('valor', DoubleType()),\n",
        "    StructField('parte_debitada_nome', StringType()),\n",
        "    StructField('parte_debitada_conta', StringType()),\n",
        "    StructField('parte_debitada_banco', StringType()),\n",
        "    StructField('parte_creditada_nome', StringType()),\n",
        "    StructField('parte_creditada_conta', StringType()),\n",
        "    StructField('parte_creditada_banco', StringType()),\n",
        "    StructField('chave_pix_tipo', StringType()),\n",
        "    StructField('chave_pix_valor', StringType()),\n",
        "    StructField('data_transacao', TimestampType())\n",
        "])\n",
        "\n",
        "caminho_csv = \"./base_de_dados.csv\"\n",
        "\n",
        "spark.read.csv(\n",
        "      path=caminho_csv,\n",
        "      header=True,\n",
        "      sep=\";\",\n",
        "      schema=schema_base_pix,\n",
        "      timestampFormat=\"dd/MM/yyyy HH:mm\"\n",
        ").createOrReplaceTempView('base_pix')"
      ],
      "metadata": {
        "id": "PAEYn0McUjPV"
      },
      "execution_count": 6,
      "outputs": []
    },
    {
      "cell_type": "code",
      "source": [
        "\n",
        "#1. Descubra a quantidade total de transações na base de dados\n",
        "\n",
        "spark.sql(\n",
        "\n",
        "          'select count(*) as numero_transacoes from base_pix'\n",
        ").show()"
      ],
      "metadata": {
        "colab": {
          "base_uri": "https://localhost:8080/"
        },
        "id": "PKPTv4MfVv8u",
        "outputId": "4362ffe1-3fd7-456f-ca85-b6479a15eced"
      },
      "execution_count": 7,
      "outputs": [
        {
          "output_type": "stream",
          "name": "stdout",
          "text": [
            "+-----------------+\n",
            "|numero_transacoes|\n",
            "+-----------------+\n",
            "|              100|\n",
            "+-----------------+\n",
            "\n"
          ]
        }
      ]
    },
    {
      "cell_type": "code",
      "source": [
        "\n",
        "# 2. Qual foi a quantia total de dinheiro transacional em cada ano?\n",
        "\n",
        "spark.sql('''\n",
        "              select\n",
        "                year(data_transacao),\n",
        "                sum(valor)\n",
        "              from base_pix\n",
        "              group by 1\n",
        "''').show()\n"
      ],
      "metadata": {
        "colab": {
          "base_uri": "https://localhost:8080/"
        },
        "id": "srRqEQyfXpIu",
        "outputId": "26e183b0-72f0-4915-ab40-273c420ca6fd"
      },
      "execution_count": 8,
      "outputs": [
        {
          "output_type": "stream",
          "name": "stdout",
          "text": [
            "+--------------------+------------------+\n",
            "|year(data_transacao)|        sum(valor)|\n",
            "+--------------------+------------------+\n",
            "|                2022|517980.58999999973|\n",
            "|                2021| 848320.6000000001|\n",
            "+--------------------+------------------+\n",
            "\n"
          ]
        }
      ]
    },
    {
      "cell_type": "code",
      "source": [
        "\n",
        "# 3.Descubra a quantidade de dinheiro que entrou na Nubank em todo o período.\n",
        "\n",
        "spark.sql('''\n",
        "            select\n",
        "              sum(valor)\n",
        "            from base_pix\n",
        "            where parte_creditada_banco = 'Nubank'\n",
        "''').show()"
      ],
      "metadata": {
        "colab": {
          "base_uri": "https://localhost:8080/"
        },
        "id": "O8An3NsgZ2KZ",
        "outputId": "2104e922-171a-4e9d-8387-16255f166af7"
      },
      "execution_count": 9,
      "outputs": [
        {
          "output_type": "stream",
          "name": "stdout",
          "text": [
            "+----------+\n",
            "|sum(valor)|\n",
            "+----------+\n",
            "| 302224.64|\n",
            "+----------+\n",
            "\n"
          ]
        }
      ]
    },
    {
      "cell_type": "code",
      "source": [
        "# 4. Retorne a quantidade de transações agrupadas por tipo de chave.\n",
        "\n",
        "spark.sql('''\n",
        "              select\n",
        "              count(*),\n",
        "              chave_pix_tipo\n",
        "              from base_pix\n",
        "              group by 2\n",
        "              order by 1 desc\n",
        "\n",
        "''').show()"
      ],
      "metadata": {
        "colab": {
          "base_uri": "https://localhost:8080/"
        },
        "id": "w8D69Q2HafT-",
        "outputId": "1883a44f-551a-49c6-bad9-2a341569f429"
      },
      "execution_count": 10,
      "outputs": [
        {
          "output_type": "stream",
          "name": "stdout",
          "text": [
            "+--------+--------------+\n",
            "|count(1)|chave_pix_tipo|\n",
            "+--------+--------------+\n",
            "|      49|           cpf|\n",
            "|      29|         email|\n",
            "|      22|       celular|\n",
            "+--------+--------------+\n",
            "\n"
          ]
        }
      ]
    },
    {
      "cell_type": "code",
      "source": [
        "# 5. Descubra qual é a média, mínima e máxima do valor de todas as transações.\n",
        "\n",
        "spark.sql('''\n",
        "              select\n",
        "              min(valor),\n",
        "              avg(valor),\n",
        "              max(valor)\n",
        "              from base_pix\n",
        "\n",
        "\n",
        "''').show()\n"
      ],
      "metadata": {
        "colab": {
          "base_uri": "https://localhost:8080/"
        },
        "id": "9zjjkdkNb2Tm",
        "outputId": "a543c9d6-e183-4579-8fd4-0b71c26cf705"
      },
      "execution_count": 11,
      "outputs": [
        {
          "output_type": "stream",
          "name": "stdout",
          "text": [
            "+----------+------------------+----------+\n",
            "|min(valor)|        avg(valor)|max(valor)|\n",
            "+----------+------------------+----------+\n",
            "|      0.03|13663.011899999998|  95977.62|\n",
            "+----------+------------------+----------+\n",
            "\n"
          ]
        }
      ]
    },
    {
      "cell_type": "code",
      "source": [
        "# 6. Quais foram as 5 maiores transações durante todo o período?\n",
        "\n",
        "spark.sql('''\n",
        "              select *\n",
        "              from base_pix\n",
        "              order by valor desc\n",
        "              limit 5\n",
        "\n",
        "\n",
        "''').show()"
      ],
      "metadata": {
        "colab": {
          "base_uri": "https://localhost:8080/"
        },
        "id": "sc4wwF58drSH",
        "outputId": "faf8608e-2cf6-4ed0-bbe8-777e9a196cfb"
      },
      "execution_count": 12,
      "outputs": [
        {
          "output_type": "stream",
          "name": "stdout",
          "text": [
            "+---+--------+--------------------+--------------------+--------------------+--------------------+---------------------+---------------------+--------------+--------------------+-------------------+\n",
            "| id|   valor| parte_debitada_nome|parte_debitada_conta|parte_debitada_banco|parte_creditada_nome|parte_creditada_conta|parte_creditada_banco|chave_pix_tipo|     chave_pix_valor|     data_transacao|\n",
            "+---+--------+--------------------+--------------------+--------------------+--------------------+---------------------+---------------------+--------------+--------------------+-------------------+\n",
            "| 54|95977.62|   Henrique Ferreira|             6269315|              Nubank|Sra. Maria Luiza ...|             68542779|                  BTG|           cpf|         14957860211|2021-09-22 10:17:00|\n",
            "| 86|94736.79|Joao Vitor Cavalc...|            52265189|                 BTG|        Stella Gomes|             93858790|               Nubank|         email|stella.gomes@yaho...|2021-01-26 00:04:00|\n",
            "| 97|94586.45|      Henrique Pinto|            69273106|            Bradesco|        Heitor Silva|             81541742|                 Itau|         email|heitor.silva@yaho...|2021-09-06 10:57:00|\n",
            "| 78|81977.98|      Giovanna Costa|            37809286|                Itau|Joao Guilherme Ramos|             75756231|             Bradesco|         email|joao.guilherme.ra...|2021-02-16 18:57:00|\n",
            "| 71|80083.34|      Eduarda Campos|            12495530|                 BTG|       Olivia da Luz|             30630489|                  BTG|           cpf|         42617803996|2021-11-16 10:58:00|\n",
            "+---+--------+--------------------+--------------------+--------------------+--------------------+---------------------+---------------------+--------------+--------------------+-------------------+\n",
            "\n"
          ]
        }
      ]
    },
    {
      "cell_type": "code",
      "source": [
        "# 7. Para o banco BTG, mostre qual é a chave pix mais utilizada para enviar ou receber transações.\n",
        "\n",
        "spark.sql('''\n",
        "              select chave_pix_tipo, count(*)\n",
        "              from base_pix\n",
        "              where parte_debitada_banco = 'BTG' OR parte_creditada_banco = 'BTG'\n",
        "              group by 1\n",
        "              order by 2 desc\n",
        "\n",
        "\n",
        "''').show()"
      ],
      "metadata": {
        "colab": {
          "base_uri": "https://localhost:8080/"
        },
        "id": "APJM0fEje7JP",
        "outputId": "45e1f635-59e4-4fdb-9b8e-244dfce19f1e"
      },
      "execution_count": 13,
      "outputs": [
        {
          "output_type": "stream",
          "name": "stdout",
          "text": [
            "+--------------+--------+\n",
            "|chave_pix_tipo|count(1)|\n",
            "+--------------+--------+\n",
            "|           cpf|      22|\n",
            "|         email|      15|\n",
            "|       celular|      13|\n",
            "+--------------+--------+\n",
            "\n"
          ]
        }
      ]
    },
    {
      "cell_type": "code",
      "source": [
        "# 8. Descubra qual foi a maior transação de cada mês na base de dados.\n",
        "\n",
        "spark.sql('''\n",
        "\n",
        "    with cte (\n",
        "            SELECT\n",
        "                  id,\n",
        "                  valor,\n",
        "                  date_format(data_transacao, 'y-MM') as ano_mes,\n",
        "                  row_number() over (\n",
        "                            partition by date_format(data_transacao, 'y-MM')\n",
        "                          order by valor desc\n",
        "                                   ) as row_number\n",
        "          FROM base_pix\n",
        "          ) select\n",
        "        id,\n",
        "        valor,\n",
        "        ano_mes\n",
        "      from cte\n",
        "      where row_number = 1\n",
        "          ''').show()\n"
      ],
      "metadata": {
        "colab": {
          "base_uri": "https://localhost:8080/"
        },
        "id": "fzxeQm8boP-P",
        "outputId": "01fc2b0d-da74-4e8c-fe31-5e68fc3362e7"
      },
      "execution_count": 20,
      "outputs": [
        {
          "output_type": "stream",
          "name": "stdout",
          "text": [
            "+---+--------+-------+\n",
            "| id|   valor|ano_mes|\n",
            "+---+--------+-------+\n",
            "| 86|94736.79|2021-01|\n",
            "| 78|81977.98|2021-02|\n",
            "| 88|78347.58|2021-03|\n",
            "| 44|   459.2|2021-04|\n",
            "| 68|  611.53|2021-05|\n",
            "| 52|60139.23|2021-06|\n",
            "| 76| 9320.87|2021-07|\n",
            "| 73|  570.52|2021-08|\n",
            "| 54|95977.62|2021-09|\n",
            "| 32| 1508.83|2021-10|\n",
            "| 71|80083.34|2021-11|\n",
            "| 40|  829.87|2021-12|\n",
            "| 79| 78559.4|2022-01|\n",
            "| 35| 7944.02|2022-02|\n",
            "| 55|35409.61|2022-03|\n",
            "| 31|20875.64|2022-04|\n",
            "| 47|38219.08|2022-05|\n",
            "| 36|48714.95|2022-06|\n",
            "| 18|49836.72|2022-07|\n",
            "| 12| 4374.56|2022-08|\n",
            "+---+--------+-------+\n",
            "only showing top 20 rows\n",
            "\n"
          ]
        }
      ]
    },
    {
      "cell_type": "code",
      "source": [
        "\n",
        "# 9. Crie uma nova coluna que contenha o valor da transação em dólar.\n",
        "spark.sql('''\n",
        "              select id, valor, round(valor/4.93, 2) as valor_dolar\n",
        "              from base_pix\n",
        "\n",
        "\n",
        "''').show()"
      ],
      "metadata": {
        "colab": {
          "base_uri": "https://localhost:8080/"
        },
        "id": "eMKJXOxejKKq",
        "outputId": "9f8966a4-02fb-4cdf-849e-1ef6fff8d89b"
      },
      "execution_count": 26,
      "outputs": [
        {
          "output_type": "stream",
          "name": "stdout",
          "text": [
            "+---+--------+-----------+\n",
            "| id|   valor|valor_dolar|\n",
            "+---+--------+-----------+\n",
            "|  1|    9.93|       2.01|\n",
            "|  2|   15.38|       3.12|\n",
            "|  3|   57.58|      11.68|\n",
            "|  4|53705.13|   10893.54|\n",
            "|  5|25299.69|    5131.78|\n",
            "|  6| 7165.06|    1453.36|\n",
            "|  7|    6.16|       1.25|\n",
            "|  8|  136.36|      27.66|\n",
            "|  9|  574.39|     116.51|\n",
            "| 10|   42.88|        8.7|\n",
            "| 11|33629.97|    6821.49|\n",
            "| 12| 4374.56|     887.33|\n",
            "| 13|  507.18|     102.88|\n",
            "| 14|67758.87|   13744.19|\n",
            "| 15|  815.53|     165.42|\n",
            "| 16|    2.73|       0.55|\n",
            "| 17|    0.54|       0.11|\n",
            "| 18|49836.72|   10108.87|\n",
            "| 19|    9.68|       1.96|\n",
            "| 20| 9837.22|    1995.38|\n",
            "+---+--------+-----------+\n",
            "only showing top 20 rows\n",
            "\n"
          ]
        }
      ]
    }
  ]
}